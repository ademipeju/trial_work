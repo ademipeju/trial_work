{
 "cells": [
  {
   "cell_type": "markdown",
   "id": "447bb3af-8bc1-4f47-bfd6-40b501ee57db",
   "metadata": {},
   "source": [
    "# meaning of markdown in Jupiter\n",
    "markdown is a console for writing or describing a particular subject\n",
    "## types of markdown\n",
    "markdown one and two. nothing like this, just a make-believe from my end\n",
    "### importance of a markdown\n",
    "it makes work a lot more easier, and it is more professional"
   ]
  },
  {
   "cell_type": "code",
   "execution_count": null,
   "id": "0b7f698d-96c5-4f2c-8854-8df089ad926d",
   "metadata": {},
   "outputs": [],
   "source": []
  },
  {
   "cell_type": "code",
   "execution_count": null,
   "id": "f5d13d61-8364-4d58-8459-726a9e60887a",
   "metadata": {},
   "outputs": [],
   "source": []
  },
  {
   "cell_type": "code",
   "execution_count": null,
   "id": "8f4dff18-0a52-43a5-ad5e-77a47b9912c2",
   "metadata": {},
   "outputs": [],
   "source": []
  },
  {
   "cell_type": "code",
   "execution_count": null,
   "id": "aecaa5b2-f085-4e06-9a15-322cce54317f",
   "metadata": {},
   "outputs": [],
   "source": []
  }
 ],
 "metadata": {
  "kernelspec": {
   "display_name": "Python 3 (ipykernel)",
   "language": "python",
   "name": "python3"
  },
  "language_info": {
   "codemirror_mode": {
    "name": "ipython",
    "version": 3
   },
   "file_extension": ".py",
   "mimetype": "text/x-python",
   "name": "python",
   "nbconvert_exporter": "python",
   "pygments_lexer": "ipython3",
   "version": "3.11.7"
  }
 },
 "nbformat": 4,
 "nbformat_minor": 5
}
