{
 "cells": [
  {
   "cell_type": "markdown",
   "id": "103e0ab9-8830-4ea5-aab3-fc2289a998af",
   "metadata": {},
   "source": [
    "# markdown importance\n",
    "markdown makes work easier and faster\n",
    "it is more professional"
   ]
  },
  {
   "cell_type": "code",
   "execution_count": 1,
   "id": "d94a9c4e-18dc-46b4-a384-0dbfa07568d8",
   "metadata": {},
   "outputs": [
    {
     "name": "stdout",
     "output_type": "stream",
     "text": [
      "Hello, Tosin\n"
     ]
    }
   ],
   "source": [
    "print(\"Hello, Tosin\")"
   ]
  },
  {
   "cell_type": "code",
   "execution_count": 2,
   "id": "7c929fb7-73d6-49f0-9bc6-a703895c9dcf",
   "metadata": {},
   "outputs": [
    {
     "name": "stdout",
     "output_type": "stream",
     "text": [
      "self motivation is important\n"
     ]
    }
   ],
   "source": [
    "print(\"self motivation is important\")"
   ]
  },
  {
   "cell_type": "code",
   "execution_count": null,
   "id": "23527761-f185-423a-a5f9-32dd980dc311",
   "metadata": {},
   "outputs": [],
   "source": []
  }
 ],
 "metadata": {
  "kernelspec": {
   "display_name": "Python 3 (ipykernel)",
   "language": "python",
   "name": "python3"
  },
  "language_info": {
   "codemirror_mode": {
    "name": "ipython",
    "version": 3
   },
   "file_extension": ".py",
   "mimetype": "text/x-python",
   "name": "python",
   "nbconvert_exporter": "python",
   "pygments_lexer": "ipython3",
   "version": "3.11.7"
  }
 },
 "nbformat": 4,
 "nbformat_minor": 5
}
